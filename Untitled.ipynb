{
 "cells": [
  {
   "cell_type": "code",
   "execution_count": 1,
   "id": "ea045e24",
   "metadata": {},
   "outputs": [],
   "source": [
    "L3 = [15, 11,  1,  3, 13,  3, 14, 16, 17, 17,  6, 18, 10, 19,  8,  1, 18,\n",
    "      17, 14,  1,  5,  2, 13,  0,  1, 13, 16,  8,  5, 11, 12,  8, 17, 14,\n",
    "      10, 18, 17, 16,  3,  7,  8, 15, 18,  7, 10,  5,  7, 16,  6,  5, 24,\n",
    "      18, 22, 32]"
   ]
  },
  {
   "cell_type": "code",
   "execution_count": 4,
   "id": "908ba3f1",
   "metadata": {},
   "outputs": [
    {
     "data": {
      "text/plain": [
       "12"
      ]
     },
     "execution_count": 4,
     "metadata": {},
     "output_type": "execute_result"
    }
   ],
   "source": [
    "# Your answer goes here\n",
    "def mult4_filter(L3):\n",
    "    # Your code goes here\n",
    "    return [n for n in L3 if n%4 == 0]\n",
    "len(mult4_filter(L3))"
   ]
  },
  {
   "cell_type": "code",
   "execution_count": 5,
   "id": "cdaebc34",
   "metadata": {},
   "outputs": [],
   "source": [
    "L1 = [64,  34, 112,  91,  62,  40, 117,  80,  96,  34,  48,  -9, -33,\n",
    "      99,  16, 118, -51,  60, 115,   4, -10,  82,  -7,  77, -33, -40,\n",
    "      77,  90,  -9,  52, -44,  25, -43,  28, -37,  92,  25, -45,   3,\n",
    "      103,  22,  39, -52,  74, -54, -76, -10,   5, -54,  95, -59,  -2,\n",
    "      110,  63, -53, 113, -43,  18,  49, -20,  81, -67,   1,  38, -24,\n",
    "      57, -11, -69, -66, -67, -68, -16,  64, -34,  52, -37,  -7, -40,\n",
    "      11,  -3,  76,  91, -57, -48, -10, -16,  14,  13, -65]"
   ]
  },
  {
   "cell_type": "code",
   "execution_count": 7,
   "id": "eeae550a",
   "metadata": {},
   "outputs": [
    {
     "name": "stdout",
     "output_type": "stream",
     "text": [
      "2264\n"
     ]
    }
   ],
   "source": [
    "# Your answer goes here\n",
    "L2 = [abs(i) for i in L1 if i % 2 == 0]\n",
    "print(sum(L2))"
   ]
  },
  {
   "cell_type": "code",
   "execution_count": null,
   "id": "9fba0532",
   "metadata": {},
   "outputs": [],
   "source": []
  }
 ],
 "metadata": {
  "kernelspec": {
   "display_name": "Python 3 (ipykernel)",
   "language": "python",
   "name": "python3"
  },
  "language_info": {
   "codemirror_mode": {
    "name": "ipython",
    "version": 3
   },
   "file_extension": ".py",
   "mimetype": "text/x-python",
   "name": "python",
   "nbconvert_exporter": "python",
   "pygments_lexer": "ipython3",
   "version": "3.9.13"
  }
 },
 "nbformat": 4,
 "nbformat_minor": 5
}
